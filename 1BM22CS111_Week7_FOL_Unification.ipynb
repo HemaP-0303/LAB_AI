{
  "nbformat": 4,
  "nbformat_minor": 0,
  "metadata": {
    "colab": {
      "provenance": [],
      "authorship_tag": "ABX9TyNRasRyHgN2WK5HY7Yrj9Ok",
      "include_colab_link": true
    },
    "kernelspec": {
      "name": "python3",
      "display_name": "Python 3"
    },
    "language_info": {
      "name": "python"
    }
  },
  "cells": [
    {
      "cell_type": "markdown",
      "metadata": {
        "id": "view-in-github",
        "colab_type": "text"
      },
      "source": [
        "<a href=\"https://colab.research.google.com/github/HemaP-0303/LAB_AI/blob/main/1BM22CS111_Week7_FOL_Unification.ipynb\" target=\"_parent\"><img src=\"https://colab.research.google.com/assets/colab-badge.svg\" alt=\"Open In Colab\"/></a>"
      ]
    },
    {
      "cell_type": "code",
      "execution_count": 15,
      "metadata": {
        "colab": {
          "base_uri": "https://localhost:8080/"
        },
        "id": "uJTJNNfO_WHU",
        "outputId": "c2fbe2db-fb10-4878-8a15-1777ada04e6b"
      },
      "outputs": [
        {
          "output_type": "stream",
          "name": "stdout",
          "text": [
            "Unification result: None\n",
            "Unification result: {('z', 'b'), ('x', 'a')}\n",
            "Unification result: {('x', 'a')}\n",
            "Unification result: FAILURE\n",
            "Unification result: FAILURE\n"
          ]
        }
      ],
      "source": [
        "def occurs_check(var, term):\n",
        "\n",
        "    if isinstance(term, str):\n",
        "        return term == var\n",
        "    elif isinstance(term, list):\n",
        "        return any(occurs_check(var, t) for t in term)\n",
        "    return False\n",
        "\n",
        "def unify(Ψ1, Ψ2):\n",
        "\n",
        "    if isinstance(Ψ1, str) or isinstance(Ψ2, str):  # Check if Ψ1 or Ψ2 are variables/constants\n",
        "        if Ψ1 == Ψ2:\n",
        "            return None  # Case a) Identical terms, return NIL (None)\n",
        "        elif isinstance(Ψ1, str):  # Ψ1 is a variable\n",
        "            if occurs_check(Ψ1, Ψ2):  # Case a. Ψ1 occurs in Ψ2\n",
        "                return 'FAILURE'\n",
        "            else:\n",
        "                return {(Ψ1, Ψ2)}  # Case b. return substitution {Ψ2 / Ψ1}\n",
        "        elif isinstance(Ψ2, str):  # Ψ2 is a variable\n",
        "            if occurs_check(Ψ2, Ψ1):  # Case a. Ψ2 occurs in Ψ1\n",
        "                return 'FAILURE'\n",
        "            else:\n",
        "                return {(Ψ2, Ψ1)}  # Case b. return substitution {Ψ1 / Ψ2}\n",
        "        else:\n",
        "            return 'FAILURE'\n",
        "\n",
        "    # Step 2: Check if predicate symbols are the same\n",
        "    if isinstance(Ψ1, list) and isinstance(Ψ2, list):\n",
        "        if Ψ1[0] != Ψ2[0]:\n",
        "            return 'FAILURE'\n",
        "\n",
        "    # Step 3: Check if the number of arguments match\n",
        "    if len(Ψ1) != len(Ψ2):\n",
        "        return 'FAILURE'\n",
        "\n",
        "    # Step 4: Set up substitution list\n",
        "    SUBST = None\n",
        "\n",
        "    # Step 5: Unify corresponding elements\n",
        "    for term1, term2 in zip(Ψ1, Ψ2):\n",
        "        # Call the unify function recursively\n",
        "        S = unify(term1, term2)\n",
        "        if S == 'FAILURE':\n",
        "            return 'FAILURE'\n",
        "        if S is not None:\n",
        "            # Apply the substitution to the rest of the terms\n",
        "            if SUBST is None:\n",
        "                SUBST = S\n",
        "            else:\n",
        "                SUBST.update(S)\n",
        "\n",
        "    # Step 6: Return the final substitution set\n",
        "    return SUBST\n",
        "\n",
        "\n",
        "Ψ1 = ['f', 'x', 'y']\n",
        "Ψ2 = ['f', 'x', 'y']\n",
        "\n",
        "result = unify(Ψ1, Ψ2)\n",
        "print(\"Unification result:\", result)\n",
        "\n",
        "Ψ1 = ['f', 'x', 'z']\n",
        "Ψ2 = ['f', 'a', 'b']\n",
        "result = unify(Ψ1, Ψ2)\n",
        "print(\"Unification result:\", result)\n",
        "\n",
        "Ψ1 = ['f', 'x', 'z']\n",
        "Ψ2 = ['f', 'a', 'z']\n",
        "result = unify(Ψ1, Ψ2)\n",
        "print(\"Unification result:\", result)\n",
        "\n",
        "Ψ1 = ['f', 'x']\n",
        "Ψ2 = ['f', 'x','y']\n",
        "result = unify(Ψ1, Ψ2)\n",
        "print(\"Unification result:\", result)\n",
        "\n",
        "Ψ1 = ['f', 'x', 'y']\n",
        "Ψ2 = ['g', 'x', 'y']\n",
        "result = unify(Ψ1, Ψ2)\n",
        "print(\"Unification result:\", result)\n",
        "\n"
      ]
    }
  ]
}